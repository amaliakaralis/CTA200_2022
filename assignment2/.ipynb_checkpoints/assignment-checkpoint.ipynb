{
 "cells": [
  {
   "cell_type": "markdown",
   "id": "df6fbf16",
   "metadata": {},
   "source": [
    "## Part 1"
   ]
  },
  {
   "cell_type": "code",
   "execution_count": 3,
   "id": "b14806e5",
   "metadata": {},
   "outputs": [],
   "source": [
    "def f(x):\n",
    "    \"\"\"The function f = x^3 - x^2 -1\n",
    "    Parameters:\n",
    "    -----------\n",
    "    x : array (float)\n",
    "    \n",
    "    Returns:\n",
    "    --------\n",
    "    f : array (float)\n",
    "        The function f evaluated at x.\n",
    "    \"\"\"\n",
    "    return x**3 - x**2 - 1\n",
    "\n",
    "def df(x):\n",
    "    \"\"\"The derivative of the function f = x^3 - x^2 -1\n",
    "    Parameters:\n",
    "    -----------\n",
    "    x : array (float)\n",
    "    \n",
    "    Returns:\n",
    "    --------\n",
    "    df : array (float)\n",
    "        The derivative of f evaluated at x.\n",
    "    \"\"\"\n",
    "    return 3*x**2 - 2*x"
   ]
  },
  {
   "cell_type": "markdown",
   "id": "348cc81a",
   "metadata": {},
   "source": [
    "## Part 2"
   ]
  },
  {
   "cell_type": "code",
   "execution_count": 21,
   "id": "d5bc92e1",
   "metadata": {},
   "outputs": [],
   "source": [
    "def newton(f, df, x0, epsilon=1e-6, max_iter=30):\n",
    "    \"\"\"Function that performs a Newton Iteration to find the root\n",
    "    of a function.\n",
    "    \n",
    "    Parameters:\n",
    "    -----------\n",
    "    f: function\n",
    "        The function to find the root of\n",
    "    df: function\n",
    "        The derivative of the function to find the root of.\n",
    "    x0: float\n",
    "        The starting point\n",
    "    epsilon: float\n",
    "        The error within which we accept the value as a root.\n",
    "    max_iter: integer\n",
    "        The maximum number of iterations to perform before giving up.\n",
    "    \n",
    "    Returns:\n",
    "    --------\n",
    "    x_1: float\n",
    "    The value of the root. If no roots are found, returns None.\n",
    "    \"\"\"\n",
    "    for i in range(max_iter):\n",
    "        \n",
    "        if abs(f(x0)) < epsilon: # check if x1 is a root\n",
    "            # a root is found\n",
    "            print(\"Found root in %i iterations.\" % i)\n",
    "            return x0\n",
    "        x_1 = x0 - f(x0) / df(x0)\n",
    "        x0 = x_1\n",
    "    # no roots are found \n",
    "    print('Iteration failed.')\n",
    "    return None\n",
    "    \n",
    "    "
   ]
  },
  {
   "cell_type": "markdown",
   "id": "75fc3ac2",
   "metadata": {},
   "source": [
    "## Part 3"
   ]
  },
  {
   "cell_type": "code",
   "execution_count": 22,
   "id": "1fccc9af",
   "metadata": {},
   "outputs": [
    {
     "name": "stdout",
     "output_type": "stream",
     "text": [
      "Found root in 5 iterations.\n"
     ]
    }
   ],
   "source": [
    "## testing the netwon function\n",
    "# first, with the default params and a very close guess\n",
    "root = newton(f, df, 1)"
   ]
  },
  {
   "cell_type": "code",
   "execution_count": 31,
   "id": "a1a54ebf",
   "metadata": {},
   "outputs": [
    {
     "name": "stdout",
     "output_type": "stream",
     "text": [
      "Found root in 26 iterations.\n"
     ]
    }
   ],
   "source": [
    "# now, with a bad guess\n",
    "root = newton(f, df, 10000)"
   ]
  },
  {
   "cell_type": "code",
   "execution_count": 32,
   "id": "5920d5f5",
   "metadata": {},
   "outputs": [
    {
     "name": "stdout",
     "output_type": "stream",
     "text": [
      "Found root in 6 iterations.\n"
     ]
    }
   ],
   "source": [
    "# good guess and smaller epsilon\n",
    "root = newton(f, df, 1, epsilon=1e-8)"
   ]
  },
  {
   "cell_type": "code",
   "execution_count": 33,
   "id": "5dc8e4a1",
   "metadata": {},
   "outputs": [
    {
     "name": "stdout",
     "output_type": "stream",
     "text": [
      "Found root in 27 iterations.\n"
     ]
    }
   ],
   "source": [
    "# bad guess and smaller epsilon\n",
    "root = newton(f, df, 10000, epsilon=1e-8)"
   ]
  },
  {
   "cell_type": "code",
   "execution_count": null,
   "id": "5b6cb3aa",
   "metadata": {},
   "outputs": [],
   "source": []
  }
 ],
 "metadata": {
  "kernelspec": {
   "display_name": "Python 3 (ipykernel)",
   "language": "python",
   "name": "python3"
  },
  "language_info": {
   "codemirror_mode": {
    "name": "ipython",
    "version": 3
   },
   "file_extension": ".py",
   "mimetype": "text/x-python",
   "name": "python",
   "nbconvert_exporter": "python",
   "pygments_lexer": "ipython3",
   "version": "3.10.2"
  }
 },
 "nbformat": 4,
 "nbformat_minor": 5
}
